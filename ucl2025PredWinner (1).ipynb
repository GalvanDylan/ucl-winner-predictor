{
  "nbformat": 4,
  "nbformat_minor": 0,
  "metadata": {
    "colab": {
      "provenance": []
    },
    "kernelspec": {
      "name": "python3",
      "display_name": "Python 3"
    },
    "language_info": {
      "name": "python"
    }
  },
  "cells": [
    {
      "cell_type": "code",
      "source": [
        "import pandas as pd\n",
        "import kagglehub\n",
        "import numpy as np\n",
        "import matplotlib.pyplot as plt\n",
        "import seaborn as sns\n",
        "\n",
        "\n",
        "from sklearn.ensemble import RandomForestClassifier\n",
        "from sklearn.model_selection import train_test_split, cross_val_score\n",
        "from sklearn.metrics import accuracy_score, classification_report\n",
        "\n",
        "from sklearn.ensemble import RandomForestClassifier\n",
        "from sklearn.model_selection import train_test_split, cross_val_score\n",
        "from sklearn.metrics import accuracy_score, classification_report\n"
      ],
      "metadata": {
        "id": "Pdri0Ok9xTRu"
      },
      "execution_count": null,
      "outputs": []
    },
    {
      "cell_type": "code",
      "source": [
        "#2023 fifa data\n",
        "# Download latest version\n",
        "path3 = kagglehub.dataset_download(\"sanjeetsinghnaik/fifa-23-players-dataset\")\n",
        "\n",
        "print(\"Path to dataset files:\", path3)"
      ],
      "metadata": {
        "colab": {
          "base_uri": "https://localhost:8080/"
        },
        "id": "pHb4tbqd_jpB",
        "outputId": "84e972ad-e3ba-4fa3-8a7a-8467bad79969"
      },
      "execution_count": null,
      "outputs": [
        {
          "output_type": "stream",
          "name": "stdout",
          "text": [
            "Path to dataset files: /kaggle/input/fifa-23-players-dataset\n"
          ]
        }
      ]
    },
    {
      "cell_type": "code",
      "source": [
        "#2022 fifa data\n",
        "# Download FIFA 22 dataset from Kaggle\n",
        "path2 = kagglehub.dataset_download(\"stefanoleone992/fifa-22-complete-player-dataset\")\n",
        "print(\"✅ Downloaded to:\", path2)"
      ],
      "metadata": {
        "colab": {
          "base_uri": "https://localhost:8080/"
        },
        "id": "JPzU6zGO8kAF",
        "outputId": "ac3486a7-76dd-40f2-a1e1-55605fec6cb8"
      },
      "execution_count": null,
      "outputs": [
        {
          "output_type": "stream",
          "name": "stdout",
          "text": [
            "✅ Downloaded to: /kaggle/input/fifa-22-complete-player-dataset\n"
          ]
        }
      ]
    },
    {
      "cell_type": "code",
      "source": [
        "#2021 fifa data\n",
        "# Download latest version\n",
        "path1 = kagglehub.dataset_download(\"stefanoleone992/fifa-21-complete-player-dataset\")\n",
        "\n",
        "print(\"Path to dataset files:\", path1)"
      ],
      "metadata": {
        "colab": {
          "base_uri": "https://localhost:8080/"
        },
        "id": "Kc0IfPLezK4F",
        "outputId": "9bafa1e7-e811-4095-f8ec-dd94465936b1"
      },
      "execution_count": null,
      "outputs": [
        {
          "output_type": "stream",
          "name": "stdout",
          "text": [
            "Path to dataset files: /kaggle/input/fifa-21-complete-player-dataset\n"
          ]
        }
      ]
    },
    {
      "cell_type": "code",
      "execution_count": null,
      "metadata": {
        "colab": {
          "base_uri": "https://localhost:8080/"
        },
        "id": "B0Zc7m3OW-Pf",
        "outputId": "1e1a31ca-bc5e-4d66-d821-264724f3aeb9"
      },
      "outputs": [
        {
          "output_type": "stream",
          "name": "stdout",
          "text": [
            "Path to dataset files: /kaggle/input/fc-24-players-database-and-stats-from-easports\n"
          ]
        }
      ],
      "source": [
        "#2024 fifa data\n",
        "\n",
        "# Download latest version\n",
        "path = kagglehub.dataset_download(\"nyagami/fc-24-players-database-and-stats-from-easports\")\n",
        "\n",
        "print(\"Path to dataset files:\", path)"
      ]
    },
    {
      "cell_type": "code",
      "source": [
        "df_fifa21 = pd.read_csv(\"/kaggle/input/fifa-21-complete-player-dataset/players_21.csv\")\n"
      ],
      "metadata": {
        "id": "4-ebSwr6vE74"
      },
      "execution_count": null,
      "outputs": []
    },
    {
      "cell_type": "code",
      "source": [
        "df_fifa24 = pd.read_csv(\"/kaggle/input/fc-24-players-database-and-stats-from-easports/male_fc_24_players.csv\")\n"
      ],
      "metadata": {
        "id": "cSntKLSrmMAg"
      },
      "execution_count": null,
      "outputs": []
    },
    {
      "cell_type": "code",
      "source": [
        "#2022\n",
        "df_fifa22 = pd.read_csv(f\"{path2}/players_22.csv\")\n"
      ],
      "metadata": {
        "colab": {
          "base_uri": "https://localhost:8080/"
        },
        "id": "Ptzj3NWH9vVf",
        "outputId": "56859e02-0fc4-41ee-ecfb-afa753172292"
      },
      "execution_count": null,
      "outputs": [
        {
          "output_type": "stream",
          "name": "stderr",
          "text": [
            "<ipython-input-506-62050ff24457>:2: DtypeWarning: Columns (25,108) have mixed types. Specify dtype option on import or set low_memory=False.\n",
            "  df_fifa22 = pd.read_csv(f\"{path2}/players_22.csv\")\n"
          ]
        }
      ]
    },
    {
      "cell_type": "code",
      "source": [
        "#2023\n",
        "df_fifa23 = pd.read_csv(f\"{path3}/Fifa 23 Players Data.csv\")"
      ],
      "metadata": {
        "id": "DgvKdKOr_zwM"
      },
      "execution_count": null,
      "outputs": []
    },
    {
      "cell_type": "code",
      "source": [
        "\n",
        "\n",
        "#rename raw columns -> our standard names per season\n",
        "col_maps = {\n",
        "    2021: {'short_name':'player_name','club_name':'club','overall':'overall',\n",
        "           'pace':'pac','shooting':'sho','passing':'pas','dribbling':'dri',\n",
        "           'defending':'def','physic':'phy','age':'age'},\n",
        "    2022: {'short_name':'player_name','club_name':'club','overall':'overall',\n",
        "           'pace':'pac','shooting':'sho','passing':'pas','dribbling':'dri',\n",
        "           'defending':'def','physic':'phy','age':'age'},\n",
        "    2023: {'Known As':'player_name','Club Name':'club','Overall':'overall',\n",
        "           'Pace Total':'pac','Shooting Total':'sho','Passing Total':'pas',\n",
        "           'Dribbling Total':'dri','Defending Total':'def',\n",
        "           'Physicality Total':'phy','Age':'age'},\n",
        "    2024: {'name':'player_name','club':'club','overall':'overall',\n",
        "           'PAC':'pac','SHO':'sho','PAS':'pas','DRI':'dri','DEF':'def',\n",
        "           'PHY':'phy','age':'age'}\n",
        "}\n",
        "\n",
        "#all of UCL clubs participating per season\n",
        "ucl_teams = {\n",
        "    2021: [ \"Bayern Munich\", \"Atlético Madrid\", \"Red Bull Salzburg\", \"Lokomotiv Moscow\",\n",
        "    \"Real Madrid\", \"Shakhtar Donetsk\", \"Inter Milan\", \"Borussia Mönchengladbach\",\n",
        "    \"Manchester City\", \"Porto\", \"Olympiacos\", \"Marseille\",\n",
        "    \"Liverpool\", \"Atalanta\", \"Ajax\", \"Midtjylland\",\n",
        "    \"Sevilla\", \"Chelsea\", \"Krasnodar\", \"Rennes\",\n",
        "    \"Zenit Saint Petersburg\", \"Borussia Dortmund\", \"Lazio\", \"Club Brugge\",\n",
        "    \"Juventus\", \"Barcelona\", \"Dynamo Kyiv\", \"Ferencváros\",\n",
        "    \"Paris Saint-Germain\", \"Manchester United\", \"RB Leipzig\", \"İstanbul Başakşehir\"],\n",
        "    2022: [ \"Manchester City\", \"Paris Saint-Germain\", \"RB Leipzig\", \"Club Brugge\",\n",
        "    \"Liverpool\", \"Atletico Madrid\", \"Porto\", \"AC Milan\",\n",
        "    \"Ajax\", \"Sporting CP\", \"Borussia Dortmund\", \"Beşiktaş\",\n",
        "    \"Real Madrid\", \"Inter Milan\", \"Shakhtar Donetsk\", \"Sheriff Tiraspol\",\n",
        "    \"Bayern Munich\", \"Benfica\", \"Barcelona\", \"Dynamo Kyiv\",\n",
        "    \"Manchester United\", \"Villarreal\", \"Atalanta\", \"Young Boys\",\n",
        "    \"Lille\", \"Sevilla\", \"Red Bull Salzburg\", \"Wolfsburg\",\n",
        "    \"Juventus\", \"Chelsea\", \"Zenit Saint Petersburg\", \"Malmö FF\" ],\n",
        "    2023: [ \"Real Madrid\", \"RB Leipzig\", \"Shakhtar Donetsk\", \"Celtic\",\n",
        "    \"Manchester City\", \"Borussia Dortmund\", \"Sevilla\", \"Copenhagen\",\n",
        "    \"Paris Saint-Germain\", \"Benfica\", \"Juventus\", \"Maccabi Haifa\",\n",
        "    \"Chelsea\", \"AC Milan\", \"Red Bull Salzburg\", \"Dinamo Zagreb\",\n",
        "    \"Napoli\", \"Liverpool\", \"Ajax\", \"Rangers\",\n",
        "    \"Porto\", \"Club Brugge\", \"Bayer Leverkusen\", \"Atlético Madrid\",\n",
        "    \"Bayern Munich\", \"Inter\", \"Barcelona\", \"Viktoria Plzeň\",\n",
        "    \"Tottenham Hotspur\", \"Eintracht Frankfurt\", \"Sporting CP\", \"Marseille\"],\n",
        "    2024: [ \"Manchester City\", \"Real Madrid\", \"Bayern Munich\", \"Barcelona\", \"Arsenal\",\n",
        "    \"Paris SG\", \"Napoli\", \"Inter\", \"AC Milan\", \"Atletico Madrid\", \"Borussia Dortmund\",\n",
        "    \"RB Leipzig\", \"Porto\", \"Benfica\", \"Sevilla\", \"Celtic\", \"Galatasaray\",\n",
        "    \"Feyenoord\", \"PSV\", \"Lens\", \"Union Berlin\", \"Royal Antwerp\", \"Braga\",\n",
        "    \"Copenhagen\", \"Young Boys\", \"Shakhtar Donetsk\", \"Red Star Belgrade\" ]\n",
        "}\n",
        "\n",
        "#true winners for every season\n",
        "winners = {\n",
        "    2021: \"Chelsea\",\n",
        "    2022: \"Real Madrid\",\n",
        "    2023: \"Manchester City\",\n",
        "    2024: \"Real Madrid\"\n",
        "}\n",
        "\n",
        "#feature names your 2023–24 model expects:\n",
        "feat_cols = X.columns.tolist()  # from your existing X\n"
      ],
      "metadata": {
        "id": "9i4wtqQ3LOdO"
      },
      "execution_count": null,
      "outputs": []
    },
    {
      "cell_type": "code",
      "source": [
        "#raw df_fifa21 already loaded    featues for ucl teams, did it for the other 3 seasons included in the model\n",
        "df21 = df_fifa21.rename(columns=col_maps[2021])[ list(col_maps[2021].values()) ]\n",
        "\n",
        "#filter UCL clubs\n",
        "df21 = df21[df21['club'].isin(ucl_teams[2021])]\n",
        "\n",
        "#build features\n",
        "stats = ['overall','pac','sho','pas','dri','def','phy','age']\n",
        "avg21 = df21.groupby('club')[stats].mean().add_prefix('avg_')\n",
        "top5_21 = (df21.sort_values('overall',ascending=False)\n",
        "             .groupby('club').head(5)\n",
        "             .groupby('club')[stats].mean()\n",
        "             .add_prefix('top5_avg_'))\n",
        "cnt21=df21.groupby('club').size().rename('num_players')\n",
        "\n",
        "team_features_2021= pd.concat([avg21,top5_21, cnt21], axis=1)\n",
        "team_features_2021['label'] = (team_features_2021.index == winners[2021]).astype(int)\n",
        "team_features_2021.index.name = 'club'\n",
        "team_features_2021 = team_features_2021.reset_index()\n"
      ],
      "metadata": {
        "id": "SC1yCHQVLsOG"
      },
      "execution_count": null,
      "outputs": []
    },
    {
      "cell_type": "code",
      "source": [
        "#raw df_fifa22 already loaded\n",
        "df22 = df_fifa22.rename(columns=col_maps[2022])[ list(col_maps[2022].values()) ]\n",
        "df22 = df22[df22['club'].isin(ucl_teams[2022])]\n",
        "\n",
        "avg22 = df22.groupby('club')[stats].mean().add_prefix('avg_')\n",
        "top5_22 = (df22.sort_values('overall',ascending=False)\n",
        "             .groupby('club').head(5)\n",
        "             .groupby('club')[stats].mean()\n",
        "             .add_prefix('top5_avg_'))\n",
        "cnt22 = df22.groupby('club').size().rename('num_players')\n",
        "\n",
        "team_features_2022 = pd.concat([avg22, top5_22, cnt22], axis=1)\n",
        "team_features_2022['label'] = (team_features_2022.index == winners[2022]).astype(int)\n",
        "team_features_2022.index.name = 'club'\n",
        "team_features_2022 = team_features_2022.reset_index()\n"
      ],
      "metadata": {
        "id": "GDAh-PtyLxtD"
      },
      "execution_count": null,
      "outputs": []
    },
    {
      "cell_type": "code",
      "source": [
        "#raw df_fifa23 already loaded\n",
        "df23 = df_fifa23.rename(columns=col_maps[2023])[ list(col_maps[2023].values()) ]\n",
        "df23 = df23[df23['club'].isin(ucl_teams[2023])]\n",
        "\n",
        "avg23 = df23.groupby('club')[stats].mean().add_prefix('avg_')\n",
        "top5_23 = (df23.sort_values('overall',ascending=False)\n",
        "             .groupby('club').head(5)\n",
        "             .groupby('club')[stats].mean()\n",
        "             .add_prefix('top5_avg_'))\n",
        "cnt23 = df23.groupby('club').size().rename('num_players')\n",
        "\n",
        "team_features_2023 = pd.concat([avg23, top5_23, cnt23], axis=1)\n",
        "team_features_2023['label'] = (team_features_2023.index == winners[2023]).astype(int)\n",
        "team_features_2023.index.name = 'club'\n",
        "team_features_2023 = team_features_2023.reset_index()\n"
      ],
      "metadata": {
        "id": "kmlyXoB-L0I_"
      },
      "execution_count": null,
      "outputs": []
    },
    {
      "cell_type": "code",
      "source": [
        "#raw df_fifa24 already loaded\n",
        "df24 = df_fifa24.rename(columns=col_maps[2024])[ list(col_maps[2024].values()) ]\n",
        "df24 = df24[df24['club'].isin(ucl_teams[2024])]\n",
        "\n",
        "avg24 = df24.groupby('club')[stats].mean().add_prefix('avg_')\n",
        "top5_24 = (df24.sort_values('overall',ascending=False)\n",
        "             .groupby('club').head(5)\n",
        "             .groupby('club')[stats].mean()\n",
        "             .add_prefix('top5_avg_'))\n",
        "cnt24 = df24.groupby('club').size().rename('num_players')\n",
        "\n",
        "team_features_2024 = pd.concat([avg24, top5_24, cnt24], axis=1)\n",
        "team_features_2024['label'] = (team_features_2024.index == winners[2024]).astype(int)\n",
        "team_features_2024.index.name = 'club'\n",
        "team_features_2024 = team_features_2024.reset_index()\n"
      ],
      "metadata": {
        "id": "TESP5jizL2DI"
      },
      "execution_count": null,
      "outputs": []
    },
    {
      "cell_type": "code",
      "source": [
        "#feat_cols:models exact feature names from 2023–24 training\n",
        "feat_cols =X.columns.tolist()\n",
        "#Function to align column names of any dataframe to match the training features\n",
        "def align_columns(df):\n",
        "    rename_map = {}\n",
        "    for col in df.columns:\n",
        "        low = col.lower()\n",
        "        #find thee matching feature name\n",
        "        match = next((f for f in feat_cols if f.lower() == low), None)\n",
        "        if match and col != match:\n",
        "            rename_map[col] = match\n",
        "    df.rename(columns=rename_map, inplace=True)\n",
        "\n",
        "#apply to each season\n",
        "for df in (team_features_2021, team_features_2022, team_features_2023,team_features):\n",
        "    align_columns(df)\n",
        "\n",
        "\n"
      ],
      "metadata": {
        "id": "8qqutnE2MPSk"
      },
      "execution_count": null,
      "outputs": []
    },
    {
      "cell_type": "code",
      "source": [
        "print(\"2021 now has:\", sorted(team_features_2021.columns))\n",
        "print(\"Expecting   :\", sorted(feat_cols + ['club','label']))\n",
        "\n",
        "\n"
      ],
      "metadata": {
        "colab": {
          "base_uri": "https://localhost:8080/"
        },
        "id": "Z0GJ5BglMRO5",
        "outputId": "53d226e6-0db4-4c70-ccc8-ae886b46ae97"
      },
      "execution_count": null,
      "outputs": [
        {
          "output_type": "stream",
          "name": "stdout",
          "text": [
            "2021 now has: ['avg_DEF', 'avg_DRI', 'avg_PAC', 'avg_PAS', 'avg_PHY', 'avg_SHO', 'avg_age', 'avg_overall', 'club', 'label', 'num_players', 'top5_avg_DEF', 'top5_avg_DRI', 'top5_avg_PAC', 'top5_avg_PAS', 'top5_avg_PHY', 'top5_avg_SHO', 'top5_avg_age', 'top5_avg_overall']\n",
            "Expecting   : ['avg_DEF', 'avg_DRI', 'avg_PAC', 'avg_PAS', 'avg_PHY', 'avg_SHO', 'avg_age', 'avg_overall', 'club', 'label', 'num_players', 'top5_avg_DEF', 'top5_avg_DRI', 'top5_avg_PAC', 'top5_avg_PAS', 'top5_avg_PHY', 'top5_avg_SHO', 'top5_avg_age', 'top5_avg_overall']\n"
          ]
        }
      ]
    },
    {
      "cell_type": "code",
      "source": [
        "\n",
        "\n",
        "from sklearn.model_selection import RandomizedSearchCV\n",
        "from sklearn.ensemble import RandomForestClassifier\n",
        "\n",
        "#stack all four seasons\n",
        "#combine features from all four seasons into one dataset\n",
        "df_all = pd.concat(\n",
        "    [team_features_2021, team_features_2022, team_features_2023, team_features],\n",
        "    ignore_index=True\n",
        ")\n",
        "X_all = df_all.drop(columns=['club','label'])[feat_cols]\n",
        "y_all = df_all['label']\n",
        "\n",
        "#Hyperparameter search space\n",
        "param_dist = {\n",
        "    'n_estimators':      [100, 200, 500, 1000],\n",
        "    'max_depth':         [None, 10, 20, 30],\n",
        "    'min_samples_split': [2, 5, 10],\n",
        "    'min_samples_leaf':  [1, 2, 4],\n",
        "    'class_weight':      ['balanced', 'balanced_subsample']\n",
        "}\n",
        "\n",
        "\n",
        "rs = RandomizedSearchCV(\n",
        "    RandomForestClassifier(random_state=42),\n",
        "    param_dist,\n",
        "    n_iter=34,\n",
        "    cv=4,\n",
        "    scoring='accuracy',\n",
        "    n_jobs=-1,\n",
        "    random_state=42\n",
        ")\n",
        "rs.fit(X_all, y_all)\n",
        "\n",
        "print(\"Best forest params:\", rs.best_params_)\n",
        "best_model = rs.best_estimator_\n",
        "\n",
        "#Now report per season predictions with the tuned model\n",
        "actual = {2021:\"Chelsea\", 2022:\"Real Madrid\", 2023:\"Manchester City\", 2024:\"Real Madrid\"}\n",
        "for year, df in [(2021, team_features_2021),\n",
        "                 (2022, team_features_2022),\n",
        "                 (2023, team_features_2023),\n",
        "                 (2024, team_features)]:\n",
        "    X_year = df.drop(columns=['club','label'])[feat_cols]\n",
        "    probs   = best_model.predict_proba(X_year)[:,1]\n",
        "    pred    = df['club'].iloc[probs.argmax()]\n",
        "    print(f\"Season {year}: predicted → {pred:15}   actual → {actual[year]}\")\n",
        "\n",
        "\n",
        "\n"
      ],
      "metadata": {
        "colab": {
          "base_uri": "https://localhost:8080/"
        },
        "id": "jXCtleaDL61s",
        "outputId": "da969599-9108-4dcd-8316-83b3e1691a9c"
      },
      "execution_count": null,
      "outputs": [
        {
          "output_type": "stream",
          "name": "stderr",
          "text": [
            "/usr/local/lib/python3.11/dist-packages/sklearn/model_selection/_split.py:805: UserWarning: The least populated class in y has only 3 members, which is less than n_splits=4.\n",
            "  warnings.warn(\n"
          ]
        },
        {
          "output_type": "stream",
          "name": "stdout",
          "text": [
            "Best forest params: {'n_estimators': 200, 'min_samples_split': 2, 'min_samples_leaf': 1, 'max_depth': 10, 'class_weight': 'balanced_subsample'}\n",
            "Season 2021: predicted → Chelsea           actual → Chelsea\n",
            "Season 2022: predicted → Juventus          actual → Real Madrid\n",
            "Season 2023: predicted → Manchester City   actual → Manchester City\n",
            "Season 2024: predicted → Real Madrid       actual → Real Madrid\n"
          ]
        }
      ]
    },
    {
      "cell_type": "code",
      "source": [
        "#lean FIFA 24 using the uppercase stat names\n",
        "fifa24_cleaned = df_fifa24[[\n",
        "    'club',\n",
        "    'overall',\n",
        "    'PAC', 'SHO', 'PAS', 'DRI', 'DEF', 'PHY',\n",
        "    'age'\n",
        "]].rename(columns={\n",
        "    'overall': 'ovr',\n",
        "    'PAC':      'pac',\n",
        "    'SHO':      'sho',\n",
        "    'PAS':      'pas',\n",
        "    'DRI':      'dri',\n",
        "    'DEF':      'def',\n",
        "    'PHY':      'phy'\n",
        "})\n",
        "\n",
        "#use that as df25\n",
        "df25 = fifa24_cleaned"
      ],
      "metadata": {
        "id": "1BCEIwv6XB88"
      },
      "execution_count": null,
      "outputs": []
    },
    {
      "cell_type": "code",
      "source": [
        "#2025 fifa data\n",
        "# Download latest version\n",
        "path5 = kagglehub.dataset_download(\"akshyakumarkc/fifa-25-player-ratings\")\n",
        "\n",
        "print(\"Path to dataset files:\", path5)"
      ],
      "metadata": {
        "colab": {
          "base_uri": "https://localhost:8080/"
        },
        "id": "NACtstAlXHRE",
        "outputId": "892bc0ae-aa23-4352-f638-8c48fc0d0b5f"
      },
      "execution_count": null,
      "outputs": [
        {
          "output_type": "stream",
          "name": "stdout",
          "text": [
            "Path to dataset files: /kaggle/input/fifa-25-player-ratings\n"
          ]
        }
      ]
    },
    {
      "cell_type": "code",
      "source": [
        "df_fifa25 = pd.read_csv(f\"{path5}/players_info.csv\")\n"
      ],
      "metadata": {
        "id": "Xpal3I_OXeW-"
      },
      "execution_count": null,
      "outputs": []
    },
    {
      "cell_type": "code",
      "source": [
        "\n",
        "#keep only males\n",
        "df25_male = df_fifa25[df_fifa25['gender'] == 'M']\n",
        "\n",
        "#select just the columns our feature builder expects\n",
        "df25 = df25_male[[\n",
        "    'club',\n",
        "    'ovr',   #overall rating\n",
        "    'pac',   #pace\n",
        "    'sho',   # ssshooting\n",
        "    'pas',   #passing\n",
        "    'dri',   #dribbling\n",
        "    'def',   #defending\n",
        "    'phy',   #physicality\n",
        "    'age'\n",
        "]]\n",
        "semis_2025 = [   #teams that were in semi finals this season\n",
        "    \"FC Barcelona\",\n",
        "    \"Arsenal\",\n",
        "    \"Paris SG\",\n",
        "    \"Lombardia FC\"   #Inter Milan5 name in fifa\n",
        "]\n",
        "\n"
      ],
      "metadata": {
        "id": "PlDxsq7ffU0-"
      },
      "execution_count": null,
      "outputs": []
    },
    {
      "cell_type": "code",
      "source": [],
      "metadata": {
        "colab": {
          "base_uri": "https://localhost:8080/"
        },
        "id": "jgyLUDNVlyWC",
        "outputId": "85b43cbf-e7cc-46d0-fd45-61c4f7852a20"
      },
      "execution_count": null,
      "outputs": [
        {
          "output_type": "stream",
          "name": "stdout",
          "text": [
            "['rank', 'player_name', 'age', 'gender', 'club', 'league', 'nationality', 'position', 'preffered_foot', 'height_(in cm)', 'weight_(in kg)', 'alt_position', 'ovr', 'pac', 'pac+-', 'sho', 'sho+-', 'pas', 'pas+-', 'dri', 'dri+-', 'def', 'def+-', 'phy', 'phy+-', 'image_url']\n"
          ]
        }
      ]
    },
    {
      "cell_type": "code",
      "source": [
        "tf_semis = build_team_features(\n",
        "    df=df25,\n",
        "    teams=semis_2025,\n",
        "    champion=None    #we don’t supply a label here\n",
        ")\n",
        "\n",
        "\n",
        "\n"
      ],
      "metadata": {
        "id": "c_yGWzPEkmyh"
      },
      "execution_count": null,
      "outputs": []
    },
    {
      "cell_type": "code",
      "source": [
        "tf_semis.rename(columns={\n",
        "    'avg_ovr':       'avg_overall',\n",
        "    'top5_avg_ovr':  'top5_avg_overall'\n",
        "}, inplace=True)\n",
        "align_columns(tf_semis)\n"
      ],
      "metadata": {
        "id": "OoSpGCKUfzbF"
      },
      "execution_count": null,
      "outputs": []
    },
    {
      "cell_type": "code",
      "source": [
        "#to standardize column names across datasets\n",
        "def align_columns(df):\n",
        "    rename_map = {}\n",
        "    for col in df.columns:\n",
        "        low = col.lower()\n",
        "        match = next((f for f in feat_cols if f.lower() == low), None)\n",
        "        if match and col != match:\n",
        "            rename_map[col] = match\n",
        "    df.rename(columns=rename_map, inplace=True)\n"
      ],
      "metadata": {
        "id": "Cx7lH1bwoqnf"
      },
      "execution_count": null,
      "outputs": []
    },
    {
      "cell_type": "code",
      "source": [
        "print(\"Semis columns:\", sorted(tf_semis.columns))\n",
        "print(\"Expecting   :\", sorted(feat_cols + ['club','label']))\n"
      ],
      "metadata": {
        "colab": {
          "base_uri": "https://localhost:8080/"
        },
        "id": "-YWh_L9LosgX",
        "outputId": "ddc2ad76-97bd-40a4-f8ac-71a70e394256"
      },
      "execution_count": null,
      "outputs": [
        {
          "output_type": "stream",
          "name": "stdout",
          "text": [
            "Semis columns: ['avg_DEF', 'avg_DRI', 'avg_PAC', 'avg_PAS', 'avg_PHY', 'avg_SHO', 'avg_age', 'avg_overall', 'club', 'num_players', 'top5_avg_DEF', 'top5_avg_DRI', 'top5_avg_PAC', 'top5_avg_PAS', 'top5_avg_PHY', 'top5_avg_SHO', 'top5_avg_age', 'top5_avg_overall']\n",
            "Expecting   : ['avg_DEF', 'avg_DRI', 'avg_PAC', 'avg_PAS', 'avg_PHY', 'avg_SHO', 'avg_age', 'avg_overall', 'club', 'label', 'num_players', 'top5_avg_DEF', 'top5_avg_DRI', 'top5_avg_PAC', 'top5_avg_PAS', 'top5_avg_PHY', 'top5_avg_SHO', 'top5_avg_age', 'top5_avg_overall']\n"
          ]
        }
      ]
    },
    {
      "cell_type": "code",
      "source": [
        "#extract model inputs in the correct order\n",
        "X_semis = tf_semis[feat_cols]\n",
        "\n",
        "#get each team’s probability of winning\n",
        "probs_semis = final_model_all.predict_proba(X_semis)[:, 1]\n",
        "\n",
        "#club with the highest probability\n",
        "pick_semis = tf_semis['club'].iloc[probs_semis.argmax()]\n",
        "\n",
        "print(\"Predicted Champion from Semifinals:\", pick_semis)\n",
        "print(\"Confidence:\", probs_semis.max())\n"
      ],
      "metadata": {
        "colab": {
          "base_uri": "https://localhost:8080/"
        },
        "id": "9szDrxXGoutJ",
        "outputId": "47b8037f-c3e7-4e3f-8f40-d537eea1fdc8"
      },
      "execution_count": null,
      "outputs": [
        {
          "output_type": "stream",
          "name": "stdout",
          "text": [
            "🔮 Predicted Champion from Semifinals: Lombardia FC\n",
            "🏅 Confidence: 0.35\n"
          ]
        }
      ]
    },
    {
      "cell_type": "markdown",
      "source": [
        "chelsea\n",
        "rma\n",
        "mci\n",
        "rma"
      ],
      "metadata": {
        "id": "H9t_ISnDLqp6"
      }
    }
  ]
}